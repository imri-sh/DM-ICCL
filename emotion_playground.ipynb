{
 "cells": [
  {
   "cell_type": "code",
   "metadata": {
    "ExecuteTime": {
     "end_time": "2024-08-25T15:21:57.950174Z",
     "start_time": "2024-08-25T15:21:46.537472Z"
    }
   },
   "source": [
    "from datasets import Dataset, load_dataset\n",
    "\n",
    "\n",
    "emotion = load_dataset(\"emotion\", \"split\")"
   ],
   "outputs": [],
   "execution_count": 1
  },
  {
   "cell_type": "code",
   "execution_count": 17,
   "metadata": {},
   "outputs": [],
   "source": [
    "labels = []\n",
    "for i in emotion[\"train\"]:\n",
    "    labels.append(i[\"label\"])"
   ]
  },
  {
   "cell_type": "code",
   "metadata": {
    "ExecuteTime": {
     "end_time": "2024-08-25T15:21:57.975753Z",
     "start_time": "2024-08-25T15:21:57.968188Z"
    }
   },
   "source": [
    "set(labels)"
   ],
   "outputs": [
    {
     "data": {
      "text/plain": [
       "DatasetDict({\n",
       "    train: Dataset({\n",
       "        features: ['text', 'label'],\n",
       "        num_rows: 16000\n",
       "    })\n",
       "    validation: Dataset({\n",
       "        features: ['text', 'label'],\n",
       "        num_rows: 2000\n",
       "    })\n",
       "    test: Dataset({\n",
       "        features: ['text', 'label'],\n",
       "        num_rows: 2000\n",
       "    })\n",
       "})"
      ]
     },
     "execution_count": 2,
     "metadata": {},
     "output_type": "execute_result"
    }
   ],
   "execution_count": 2
  },
  {
   "cell_type": "code",
   "execution_count": 33,
   "metadata": {},
   "outputs": [
    {
     "name": "stderr",
     "output_type": "stream",
     "text": [
      "Map: 100%|██████████| 16000/16000 [00:01<00:00, 10877.62 examples/s]\n",
      "Map: 100%|██████████| 2000/2000 [00:00<00:00, 10355.72 examples/s]\n",
      "Map: 100%|██████████| 2000/2000 [00:00<00:00, 10655.14 examples/s]\n"
     ]
    }
   ],
   "source": [
    "EMOTION_LABELS = [\"sadness\", \"joy\", \"love\", \"anger\", \"fear\", \"surprise\"]\n",
    "LABELS = [\"A\", \"B\", \"C\", \"D\", \"E\", \"F\"]\n",
    "\n",
    "def emotion_convert_to_multiple_choice(sample):\n",
    "    # Convert numeric labels to letters\n",
    "    sample[\"answerKey\"] = chr(65 + int(sample[\"label\"]))  # '0' -> 'A', '1' -> 'B', etc.\n",
    "    sample[\"question\"] = sample[\"text\"]\n",
    "    sample[\"choices\"] = {\"text\": EMOTION_LABELS, \"label\": LABELS}\n",
    "    return sample\n",
    "\n",
    "\n",
    "emotion = load_dataset(\"emotion\", \"split\")\n",
    "emotion_dataset = emotion.map(emotion_convert_to_multiple_choice)"
   ]
  },
  {
   "cell_type": "code",
   "execution_count": 34,
   "metadata": {},
   "outputs": [
    {
     "data": {
      "text/plain": [
       "{'text': 'i didnt feel humiliated',\n",
       " 'label': 0,\n",
       " 'answerKey': 'A',\n",
       " 'question': 'i didnt feel humiliated',\n",
       " 'choices': {'label': ['A', 'B', 'C', 'D', 'E', 'F'],\n",
       "  'text': ['sadness', 'joy', 'love', 'anger', 'fear', 'surprise']}}"
      ]
     },
     "execution_count": 34,
     "metadata": {},
     "output_type": "execute_result"
    }
   ],
   "source": [
    "emotion_dataset[\"train\"][0]"
   ]
  },
  {
   "cell_type": "code",
   "execution_count": 6,
   "metadata": {},
   "outputs": [],
   "source": []
  }
 ],
 "metadata": {
  "kernelspec": {
   "display_name": "Python 3",
   "language": "python",
   "name": "python3"
  },
  "language_info": {
   "codemirror_mode": {
    "name": "ipython",
    "version": 3
   },
   "file_extension": ".py",
   "mimetype": "text/x-python",
   "name": "python",
   "nbconvert_exporter": "python",
   "pygments_lexer": "ipython3",
   "version": "3.9.2"
  }
 },
 "nbformat": 4,
 "nbformat_minor": 2
}
