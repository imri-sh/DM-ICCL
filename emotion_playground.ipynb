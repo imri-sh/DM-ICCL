{
 "cells": [
  {
   "cell_type": "code",
   "execution_count": 1,
   "metadata": {},
   "outputs": [
    {
     "name": "stderr",
     "output_type": "stream",
     "text": [
      "/home/mifinkelson/.local/lib/python3.9/site-packages/tqdm/auto.py:21: TqdmWarning: IProgress not found. Please update jupyter and ipywidgets. See https://ipywidgets.readthedocs.io/en/stable/user_install.html\n",
      "  from .autonotebook import tqdm as notebook_tqdm\n",
      "Downloading readme: 100%|██████████| 9.05k/9.05k [00:00<00:00, 13.4MB/s]\n",
      "Downloading data: 100%|██████████| 1.03M/1.03M [00:00<00:00, 3.55MB/s]\n",
      "Downloading data: 100%|██████████| 127k/127k [00:00<00:00, 1.00MB/s]\n",
      "Downloading data: 100%|██████████| 129k/129k [00:00<00:00, 395kB/s]\n",
      "Generating train split: 100%|██████████| 16000/16000 [00:00<00:00, 73694.09 examples/s]\n",
      "Generating validation split: 100%|██████████| 2000/2000 [00:00<00:00, 683668.13 examples/s]\n",
      "Generating test split: 100%|██████████| 2000/2000 [00:00<00:00, 670016.61 examples/s]\n"
     ]
    }
   ],
   "source": [
    "from datasets import Dataset, load_dataset\n",
    "\n",
    "\n",
    "emotion = load_dataset(\"emotion\", \"split\")"
   ]
  },
  {
   "cell_type": "code",
   "execution_count": 17,
   "metadata": {},
   "outputs": [],
   "source": [
    "labels = []\n",
    "for i in emotion[\"train\"]:\n",
    "    labels.append(i[\"label\"])"
   ]
  },
  {
   "cell_type": "code",
   "execution_count": 19,
   "metadata": {},
   "outputs": [
    {
     "data": {
      "text/plain": [
       "{0, 1, 2, 3, 4, 5}"
      ]
     },
     "execution_count": 19,
     "metadata": {},
     "output_type": "execute_result"
    }
   ],
   "source": [
    "set(labels)"
   ]
  },
  {
   "cell_type": "code",
   "execution_count": 33,
   "metadata": {},
   "outputs": [
    {
     "name": "stderr",
     "output_type": "stream",
     "text": [
      "Map: 100%|██████████| 16000/16000 [00:01<00:00, 10877.62 examples/s]\n",
      "Map: 100%|██████████| 2000/2000 [00:00<00:00, 10355.72 examples/s]\n",
      "Map: 100%|██████████| 2000/2000 [00:00<00:00, 10655.14 examples/s]\n"
     ]
    }
   ],
   "source": [
    "EMOTION_LABELS = [\"sadness\", \"joy\", \"love\", \"anger\", \"fear\", \"surprise\"]\n",
    "LABELS = [\"A\", \"B\", \"C\", \"D\", \"E\", \"F\"]\n",
    "\n",
    "def emotion_convert_to_multiple_choice(sample):\n",
    "    # Convert numeric labels to letters\n",
    "    sample[\"answerKey\"] = chr(65 + int(sample[\"label\"]))  # '0' -> 'A', '1' -> 'B', etc.\n",
    "    sample[\"question\"] = sample[\"text\"]\n",
    "    sample[\"choices\"] = {\"text\": EMOTION_LABELS, \"label\": LABELS}\n",
    "    return sample\n",
    "\n",
    "\n",
    "emotion = load_dataset(\"emotion\", \"split\")\n",
    "emotion_dataset = emotion.map(emotion_convert_to_multiple_choice)"
   ]
  },
  {
   "cell_type": "code",
   "execution_count": 34,
   "metadata": {},
   "outputs": [
    {
     "data": {
      "text/plain": [
       "{'text': 'i didnt feel humiliated',\n",
       " 'label': 0,\n",
       " 'answerKey': 'A',\n",
       " 'question': 'i didnt feel humiliated',\n",
       " 'choices': {'label': ['A', 'B', 'C', 'D', 'E', 'F'],\n",
       "  'text': ['sadness', 'joy', 'love', 'anger', 'fear', 'surprise']}}"
      ]
     },
     "execution_count": 34,
     "metadata": {},
     "output_type": "execute_result"
    }
   ],
   "source": [
    "emotion_dataset[\"train\"][0]"
   ]
  },
  {
   "cell_type": "code",
   "execution_count": 6,
   "metadata": {},
   "outputs": [],
   "source": []
  }
 ],
 "metadata": {
  "kernelspec": {
   "display_name": "Python 3",
   "language": "python",
   "name": "python3"
  },
  "language_info": {
   "codemirror_mode": {
    "name": "ipython",
    "version": 3
   },
   "file_extension": ".py",
   "mimetype": "text/x-python",
   "name": "python",
   "nbconvert_exporter": "python",
   "pygments_lexer": "ipython3",
   "version": "3.9.2"
  }
 },
 "nbformat": 4,
 "nbformat_minor": 2
}
